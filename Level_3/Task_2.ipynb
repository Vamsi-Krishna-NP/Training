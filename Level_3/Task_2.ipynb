{
 "cells": [
  {
   "cell_type": "code",
   "execution_count": 41,
   "metadata": {},
   "outputs": [
    {
     "name": "stdout",
     "output_type": "stream",
     "text": [
      "Cannot divide by zero\n",
      "The exception was handled\n"
     ]
    }
   ],
   "source": [
    "### Exception handling\n",
    "### division with zero\n",
    "try:\n",
    "    div = 10/0\n",
    "except ZeroDivisionError:\n",
    "    print('Cannot divide by zero')\n",
    "except Exception as err:\n",
    "    print(err)\n",
    "finally:\n",
    "    print('The exception was handled')"
   ]
  },
  {
   "cell_type": "code",
   "execution_count": 42,
   "metadata": {},
   "outputs": [
    {
     "name": "stdout",
     "output_type": "stream",
     "text": [
      "Please Enter a valid data type\n",
      "The exception was handled\n"
     ]
    }
   ],
   "source": [
    "### division with string\n",
    "try:\n",
    "    div = 10/'0'\n",
    "except ZeroDivisionError:\n",
    "    print('Cannot divide by zero')\n",
    "except TypeError:\n",
    "    print(\"Please Enter a valid data type\")\n",
    "except Exception as err:\n",
    "    print(err)\n",
    "finally:\n",
    "    print('The exception was handled')"
   ]
  },
  {
   "cell_type": "code",
   "execution_count": null,
   "metadata": {},
   "outputs": [],
   "source": []
  },
  {
   "cell_type": "code",
   "execution_count": null,
   "metadata": {},
   "outputs": [],
   "source": []
  },
  {
   "cell_type": "code",
   "execution_count": null,
   "metadata": {},
   "outputs": [],
   "source": []
  },
  {
   "cell_type": "code",
   "execution_count": null,
   "metadata": {},
   "outputs": [],
   "source": []
  }
 ],
 "metadata": {
  "kernelspec": {
   "display_name": "udemy-course",
   "language": "python",
   "name": "python3"
  },
  "language_info": {
   "codemirror_mode": {
    "name": "ipython",
    "version": 3
   },
   "file_extension": ".py",
   "mimetype": "text/x-python",
   "name": "python",
   "nbconvert_exporter": "python",
   "pygments_lexer": "ipython3",
   "version": "3.12.6"
  }
 },
 "nbformat": 4,
 "nbformat_minor": 2
}
