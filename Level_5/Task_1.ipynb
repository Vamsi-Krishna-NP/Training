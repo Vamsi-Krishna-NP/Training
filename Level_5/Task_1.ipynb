{
 "cells": [
  {
   "cell_type": "code",
   "execution_count": 1,
   "metadata": {},
   "outputs": [],
   "source": [
    "income_source = {'part_time': 2000, 'freelancing': 1000}\n",
    "expense = {'rent':700, 'food':1300}"
   ]
  },
  {
   "cell_type": "code",
   "execution_count": 2,
   "metadata": {},
   "outputs": [],
   "source": [
    "def tot_income(income_source):\n",
    "    tot = 0\n",
    "    for val in income_source.values():\n",
    "        tot += val\n",
    "        \n",
    "    return tot"
   ]
  },
  {
   "cell_type": "code",
   "execution_count": 3,
   "metadata": {},
   "outputs": [],
   "source": [
    "def tot_expense(expense):\n",
    "    tot = 0\n",
    "    for val in expense.values():\n",
    "        tot += val\n",
    "    \n",
    "    return tot"
   ]
  },
  {
   "cell_type": "code",
   "execution_count": 4,
   "metadata": {},
   "outputs": [],
   "source": [
    "def main():\n",
    "    total_income = tot_income(income_source)\n",
    "    total_expense = tot_expense(expense)\n",
    "    balance = total_income - total_expense\n",
    "    \n",
    "    print(f\"Income : {total_income}, Expense : {total_expense}, Balance : {balance}\")"
   ]
  },
  {
   "cell_type": "code",
   "execution_count": 5,
   "metadata": {},
   "outputs": [
    {
     "name": "stdout",
     "output_type": "stream",
     "text": [
      "Income : 3000, Expense : 2000, Balance : 1000\n"
     ]
    }
   ],
   "source": [
    "if __name__ == '__main__':\n",
    "    main()"
   ]
  },
  {
   "cell_type": "code",
   "execution_count": null,
   "metadata": {},
   "outputs": [],
   "source": []
  }
 ],
 "metadata": {
  "kernelspec": {
   "display_name": "udemy-course",
   "language": "python",
   "name": "python3"
  },
  "language_info": {
   "codemirror_mode": {
    "name": "ipython",
    "version": 3
   },
   "file_extension": ".py",
   "mimetype": "text/x-python",
   "name": "python",
   "nbconvert_exporter": "python",
   "pygments_lexer": "ipython3",
   "version": "3.12.6"
  }
 },
 "nbformat": 4,
 "nbformat_minor": 2
}
