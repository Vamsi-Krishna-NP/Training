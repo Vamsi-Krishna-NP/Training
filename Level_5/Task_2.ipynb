{
 "cells": [
  {
   "cell_type": "code",
   "execution_count": 15,
   "metadata": {},
   "outputs": [],
   "source": [
    "std_grade = []"
   ]
  },
  {
   "cell_type": "code",
   "execution_count": 16,
   "metadata": {},
   "outputs": [],
   "source": [
    "def avg_grade(lst):\n",
    "    tot = 0\n",
    "    n = len(lst)\n",
    "    for i in range(n):\n",
    "        tot += lst[i][1]\n",
    "        \n",
    "    return tot/n"
   ]
  },
  {
   "cell_type": "code",
   "execution_count": 17,
   "metadata": {},
   "outputs": [],
   "source": [
    "def pass_count(lst):\n",
    "    count = 0\n",
    "    for i in range(len(lst)):\n",
    "        if lst[i][1]>60:\n",
    "            count += 1\n",
    "            \n",
    "    return count"
   ]
  },
  {
   "cell_type": "code",
   "execution_count": 18,
   "metadata": {},
   "outputs": [],
   "source": [
    "def main():\n",
    "    for _ in range(5):\n",
    "        name = input('Enter the student name:')\n",
    "        grade = int(input('Enter the grade:'))\n",
    "        if grade<0 or grade>100:\n",
    "            print(\"Enter valid grades!!!\")\n",
    "            return\n",
    "        std_grade.append((name,grade))\n",
    "        \n",
    "    avg = avg_grade(std_grade)\n",
    "    count = pass_count(std_grade)\n",
    "    \n",
    "    \n",
    "    print(f\"Average : {avg:.2f}%, No_of_pass : {count}, No_of_fail : {len(std_grade)-count} \")    "
   ]
  },
  {
   "cell_type": "code",
   "execution_count": 19,
   "metadata": {},
   "outputs": [
    {
     "name": "stdout",
     "output_type": "stream",
     "text": [
      "Average : 74.00%, No_of_pass : 3, No_of_fail : 2 \n"
     ]
    }
   ],
   "source": [
    "if __name__=='__main__':\n",
    "    main()"
   ]
  },
  {
   "cell_type": "code",
   "execution_count": 20,
   "metadata": {},
   "outputs": [
    {
     "name": "stdout",
     "output_type": "stream",
     "text": [
      "[('vamsi', 94), ('aslam', 98), ('karthi', 75), ('sam', 47), ('joseph', 56)]\n"
     ]
    }
   ],
   "source": [
    "print(std_grade)"
   ]
  },
  {
   "cell_type": "code",
   "execution_count": null,
   "metadata": {},
   "outputs": [],
   "source": []
  }
 ],
 "metadata": {
  "kernelspec": {
   "display_name": "udemy-course",
   "language": "python",
   "name": "python3"
  },
  "language_info": {
   "codemirror_mode": {
    "name": "ipython",
    "version": 3
   },
   "file_extension": ".py",
   "mimetype": "text/x-python",
   "name": "python",
   "nbconvert_exporter": "python",
   "pygments_lexer": "ipython3",
   "version": "3.12.6"
  }
 },
 "nbformat": 4,
 "nbformat_minor": 2
}
