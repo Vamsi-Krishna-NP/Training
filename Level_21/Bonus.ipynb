{
 "cells": [
  {
   "cell_type": "code",
   "execution_count": 1,
   "id": "494e889d",
   "metadata": {},
   "outputs": [],
   "source": [
    "import numpy as np\n",
    "import pandas as pd\n",
    "import time\n",
    "from sklearn.datasets import load_wine\n",
    "from sklearn.model_selection import train_test_split\n",
    "from sklearn.preprocessing import StandardScaler\n",
    "from sklearn.metrics import accuracy_score\n"
   ]
  },
  {
   "cell_type": "code",
   "execution_count": 2,
   "id": "a5c22857",
   "metadata": {},
   "outputs": [],
   "source": [
    "# Load dataset\n",
    "data = load_wine()\n",
    "X = data.data\n",
    "y = data.target\n",
    "\n",
    "# Normalize features\n",
    "scaler = StandardScaler()\n",
    "X = scaler.fit_transform(X)\n",
    "\n",
    "# Train/test split\n",
    "X_train, X_test, y_train, y_test = train_test_split(X, y, test_size=0.2, random_state=42)"
   ]
  },
  {
   "cell_type": "code",
   "execution_count": 3,
   "id": "234908cf",
   "metadata": {},
   "outputs": [],
   "source": [
    "import tensorflow as tf\n",
    "from tensorflow.keras.models import Sequential\n",
    "from tensorflow.keras.layers import Dense\n",
    "from tensorflow.keras.utils import to_categorical\n",
    "\n",
    "# One-hot encode labels\n",
    "y_train_cat = to_categorical(y_train)\n",
    "y_test_cat = to_categorical(y_test)"
   ]
  },
  {
   "cell_type": "code",
   "execution_count": 4,
   "id": "4eeece40",
   "metadata": {},
   "outputs": [
    {
     "name": "stderr",
     "output_type": "stream",
     "text": [
      "c:\\Users\\Admin\\anaconda3\\Lib\\site-packages\\keras\\src\\layers\\core\\dense.py:87: UserWarning: Do not pass an `input_shape`/`input_dim` argument to a layer. When using Sequential models, prefer using an `Input(shape)` object as the first layer in the model instead.\n",
      "  super().__init__(activity_regularizer=activity_regularizer, **kwargs)\n"
     ]
    }
   ],
   "source": [
    "# TensorFlow model\n",
    "tf_model = Sequential([\n",
    "    Dense(32, activation='relu', input_shape=(X.shape[1],)),\n",
    "    Dense(3, activation='softmax')\n",
    "])\n",
    "\n",
    "tf_model.compile(optimizer='adam', loss='categorical_crossentropy', metrics=['accuracy'])"
   ]
  },
  {
   "cell_type": "code",
   "execution_count": 5,
   "id": "3965e021",
   "metadata": {},
   "outputs": [
    {
     "name": "stdout",
     "output_type": "stream",
     "text": [
      "\u001b[1m2/2\u001b[0m \u001b[32m━━━━━━━━━━━━━━━━━━━━\u001b[0m\u001b[37m\u001b[0m \u001b[1m0s\u001b[0m 67ms/step\n"
     ]
    }
   ],
   "source": [
    "# Train and time\n",
    "start_tf = time.time()\n",
    "tf_model.fit(X_train, y_train_cat, epochs=10, verbose=0)\n",
    "end_tf = time.time()\n",
    "tf_time = end_tf - start_tf\n",
    "\n",
    "# Predict and evaluate\n",
    "tf_preds = np.argmax(tf_model.predict(X_test), axis=1)\n",
    "tf_acc = accuracy_score(y_test, tf_preds)"
   ]
  },
  {
   "cell_type": "code",
   "execution_count": 6,
   "id": "63bac6b8",
   "metadata": {},
   "outputs": [],
   "source": [
    "import torch\n",
    "import torch.nn as nn\n",
    "import torch.optim as optim\n",
    "from torch.utils.data import TensorDataset, DataLoader\n",
    "\n",
    "# Convert to torch tensors\n",
    "X_train_torch = torch.tensor(X_train, dtype=torch.float32)\n",
    "y_train_torch = torch.tensor(y_train, dtype=torch.long)\n",
    "X_test_torch = torch.tensor(X_test, dtype=torch.float32)\n",
    "y_test_torch = torch.tensor(y_test, dtype=torch.long)"
   ]
  },
  {
   "cell_type": "code",
   "execution_count": 7,
   "id": "65a7bcc4",
   "metadata": {},
   "outputs": [],
   "source": [
    "# Dataset and loader\n",
    "train_dataset = TensorDataset(X_train_torch, y_train_torch)\n",
    "train_loader = DataLoader(train_dataset, batch_size=32, shuffle=True)"
   ]
  },
  {
   "cell_type": "code",
   "execution_count": 8,
   "id": "37efd333",
   "metadata": {},
   "outputs": [],
   "source": [
    "# PyTorch model\n",
    "class TorchModel(nn.Module):\n",
    "    def __init__(self):\n",
    "        super().__init__()\n",
    "        self.fc1 = nn.Linear(X.shape[1], 32)\n",
    "        self.relu = nn.ReLU()\n",
    "        self.out = nn.Linear(32, 3)\n",
    "    \n",
    "    def forward(self, x):\n",
    "        x = self.relu(self.fc1(x))\n",
    "        return self.out(x)\n",
    "\n",
    "model = TorchModel()\n",
    "criterion = nn.CrossEntropyLoss()\n",
    "optimizer = optim.Adam(model.parameters(), lr=0.01)"
   ]
  },
  {
   "cell_type": "code",
   "execution_count": 9,
   "id": "dbff3d74",
   "metadata": {},
   "outputs": [],
   "source": [
    "# Train and time\n",
    "start_torch = time.time()\n",
    "for epoch in range(10):\n",
    "    for batch_x, batch_y in train_loader:\n",
    "        outputs = model(batch_x)\n",
    "        loss = criterion(outputs, batch_y)\n",
    "        \n",
    "        optimizer.zero_grad()\n",
    "        loss.backward()\n",
    "        optimizer.step()\n",
    "end_torch = time.time()\n",
    "torch_time = end_torch - start_torch"
   ]
  },
  {
   "cell_type": "code",
   "execution_count": 10,
   "id": "f4b94d8a",
   "metadata": {},
   "outputs": [],
   "source": [
    "# Evaluate\n",
    "with torch.no_grad():\n",
    "    test_outputs = model(X_test_torch)\n",
    "    _, torch_preds = torch.max(test_outputs, 1)\n",
    "    torch_acc = accuracy_score(y_test_torch, torch_preds)"
   ]
  },
  {
   "cell_type": "code",
   "execution_count": 11,
   "id": "68116b63",
   "metadata": {},
   "outputs": [
    {
     "name": "stdout",
     "output_type": "stream",
     "text": [
      "    Framework  Train Time (s)  Test Accuracy\n",
      "0  TensorFlow          2.1228         0.6944\n",
      "1     PyTorch          0.1492         1.0000\n"
     ]
    }
   ],
   "source": [
    "import pandas as pd\n",
    "\n",
    "results = pd.DataFrame({\n",
    "    'Framework': ['TensorFlow', 'PyTorch'],\n",
    "    'Train Time (s)': [round(tf_time, 4), round(torch_time, 4)],\n",
    "    'Test Accuracy': [round(tf_acc, 4), round(torch_acc, 4)]\n",
    "})\n",
    "\n",
    "print(results)\n"
   ]
  },
  {
   "cell_type": "code",
   "execution_count": null,
   "id": "8e1b464c",
   "metadata": {},
   "outputs": [],
   "source": []
  }
 ],
 "metadata": {
  "kernelspec": {
   "display_name": "base",
   "language": "python",
   "name": "python3"
  },
  "language_info": {
   "codemirror_mode": {
    "name": "ipython",
    "version": 3
   },
   "file_extension": ".py",
   "mimetype": "text/x-python",
   "name": "python",
   "nbconvert_exporter": "python",
   "pygments_lexer": "ipython3",
   "version": "3.12.9"
  }
 },
 "nbformat": 4,
 "nbformat_minor": 5
}
